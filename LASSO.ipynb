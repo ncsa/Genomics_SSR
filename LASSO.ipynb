{
 "cells": [
  {
   "cell_type": "code",
   "execution_count": 41,
   "metadata": {},
   "outputs": [],
   "source": [
    "import numpy as np\n",
    "import pandas as pd\n",
    "from sklearn import linear_model\n",
    "import datetime"
   ]
  },
  {
   "cell_type": "code",
   "execution_count": 4,
   "metadata": {},
   "outputs": [
    {
     "data": {
      "text/plain": [
       "<function sklearn.linear_model.coordinate_descent.lasso_path(X, y, eps=0.001, n_alphas=100, alphas=None, precompute='auto', Xy=None, copy_X=True, coef_init=None, verbose=False, return_n_iter=False, positive=False, **params)>"
      ]
     },
     "execution_count": 4,
     "metadata": {},
     "output_type": "execute_result"
    }
   ],
   "source": [
    "linear_model.lasso_path"
   ]
  },
  {
   "cell_type": "code",
   "execution_count": 5,
   "metadata": {},
   "outputs": [],
   "source": [
    "df=pd.read_csv('SNP.1000.Sample.500.Genotype.epiq',delimiter='\\t')"
   ]
  },
  {
   "cell_type": "code",
   "execution_count": 6,
   "metadata": {},
   "outputs": [],
   "source": [
    "x1=df.drop('HeaderLine',axis=1).transpose()"
   ]
  },
  {
   "cell_type": "code",
   "execution_count": 7,
   "metadata": {},
   "outputs": [],
   "source": [
    "X=x1.to_numpy()"
   ]
  },
  {
   "cell_type": "code",
   "execution_count": 8,
   "metadata": {},
   "outputs": [],
   "source": [
    "df2=pd.read_csv('./2_Add_QTN1_Epi_QTN_h.2_0.99_add.eff_0.95_epis.eff_0.95_reps_1/Simulated.Data.1.Reps.Herit.0.99.txt',delimiter='\\t')"
   ]
  },
  {
   "cell_type": "code",
   "execution_count": 9,
   "metadata": {},
   "outputs": [],
   "source": [
    "y=df2.drop('HeaderLine',axis=1).transpose().to_numpy()"
   ]
  },
  {
   "cell_type": "code",
   "execution_count": 43,
   "metadata": {},
   "outputs": [],
   "source": [
    "df3=pd.read_csv('./2_Add_QTN1_Epi_QTN_h.2_0.99_add.eff_0.95_epis.eff_0.95_reps_100/Simulated.Data.100.Reps.Herit.0.99.txt',delimiter='\\t')"
   ]
  },
  {
   "cell_type": "code",
   "execution_count": 51,
   "metadata": {},
   "outputs": [],
   "source": [
    "Y=df3.drop('HeaderLine',axis=1).to_numpy()"
   ]
  },
  {
   "cell_type": "code",
   "execution_count": 45,
   "metadata": {},
   "outputs": [
    {
     "data": {
      "text/plain": [
       "(500, 100)"
      ]
     },
     "execution_count": 45,
     "metadata": {},
     "output_type": "execute_result"
    }
   ],
   "source": [
    "Y.shape"
   ]
  },
  {
   "cell_type": "code",
   "execution_count": 11,
   "metadata": {},
   "outputs": [
    {
     "data": {
      "text/plain": [
       "(500, 1000)"
      ]
     },
     "execution_count": 11,
     "metadata": {},
     "output_type": "execute_result"
    }
   ],
   "source": [
    "X.shape"
   ]
  },
  {
   "cell_type": "code",
   "execution_count": 12,
   "metadata": {},
   "outputs": [],
   "source": [
    "X / np.linalg.norm(X,axis=0)\n",
    "m,n = X.shape\n",
    "eps = 5e-5\n",
    "alphas_lasso, coefs_lasso, _ = linear_model.lasso_path(X, y, eps, fit_intercept=False)"
   ]
  },
  {
   "cell_type": "code",
   "execution_count": 14,
   "metadata": {},
   "outputs": [
    {
     "data": {
      "text/plain": [
       "(1, 1000, 100)"
      ]
     },
     "execution_count": 14,
     "metadata": {},
     "output_type": "execute_result"
    }
   ],
   "source": [
    "coefs_lasso.shape"
   ]
  },
  {
   "cell_type": "code",
   "execution_count": 32,
   "metadata": {},
   "outputs": [],
   "source": [
    "sel=abs(coefs_lasso[:,:,99])>0"
   ]
  },
  {
   "cell_type": "code",
   "execution_count": 26,
   "metadata": {},
   "outputs": [
    {
     "data": {
      "text/plain": [
       "(1, 100)"
      ]
     },
     "execution_count": 26,
     "metadata": {},
     "output_type": "execute_result"
    }
   ],
   "source": [
    "coefs_lasso[:,999,:].shape"
   ]
  },
  {
   "cell_type": "code",
   "execution_count": 34,
   "metadata": {},
   "outputs": [],
   "source": [
    "idx=np.array(range(1000))"
   ]
  },
  {
   "cell_type": "code",
   "execution_count": 68,
   "metadata": {},
   "outputs": [],
   "source": [
    "def findSNP(X,y,add0,epi0):\n",
    "    X / np.linalg.norm(X,axis=0)\n",
    "    m,n = X.shape\n",
    "    eps = 5e-5\n",
    "    alphas_lasso, coefs_lasso, _ = linear_model.lasso_path(X, y, eps, fit_intercept=False)\n",
    "    l0=coefs_lasso[999,:]\n",
    "    sel=abs(l0)>0\n",
    "    coefs=set(np.arange(len(l0))[sel])\n",
    "    \n",
    "    res={}\n",
    "    \n",
    "    tp_add=len(coefs & add0)\n",
    "    tp_epi=len(coefs & epi0)\n",
    "    \n",
    "    fp = len(coefs) - tp_add - tp_epi\n",
    "\n",
    "    \n",
    "    res['tpr_add']=tp_add/len(add0)\n",
    "    res['tpr_epi']=tp_epi/len(epi0)\n",
    "    if len(coefs)==0:\n",
    "        res['fpr']=0\n",
    "    else:\n",
    "        res['fpr']=fp/len(coefs)\n",
    "    \n",
    "    \n",
    "    return res"
   ]
  },
  {
   "cell_type": "code",
   "execution_count": null,
   "metadata": {},
   "outputs": [],
   "source": []
  },
  {
   "cell_type": "code",
   "execution_count": 66,
   "metadata": {},
   "outputs": [],
   "source": [
    "add0=set([156,615])\n",
    "epi0=set([420,583])"
   ]
  },
  {
   "cell_type": "code",
   "execution_count": 69,
   "metadata": {},
   "outputs": [
    {
     "name": "stdout",
     "output_type": "stream",
     "text": [
      "(1000, 100)\n",
      "(100,)\n",
      "(1000, 100)\n",
      "(100,)\n",
      "(1000, 100)\n",
      "(100,)\n",
      "(1000, 100)\n",
      "(100,)\n",
      "(1000, 100)\n",
      "(100,)\n",
      "(1000, 100)\n",
      "(100,)\n",
      "(1000, 100)\n",
      "(100,)\n",
      "(1000, 100)\n",
      "(100,)\n",
      "(1000, 100)\n",
      "(100,)\n",
      "(1000, 100)\n",
      "(100,)\n",
      "(1000, 100)\n",
      "(100,)\n",
      "(1000, 100)\n",
      "(100,)\n",
      "(1000, 100)\n",
      "(100,)\n",
      "(1000, 100)\n",
      "(100,)\n",
      "(1000, 100)\n",
      "(100,)\n",
      "(1000, 100)\n",
      "(100,)\n",
      "(1000, 100)\n",
      "(100,)\n",
      "(1000, 100)\n",
      "(100,)\n",
      "(1000, 100)\n",
      "(100,)\n",
      "(1000, 100)\n",
      "(100,)\n",
      "(1000, 100)\n",
      "(100,)\n",
      "(1000, 100)\n",
      "(100,)\n",
      "(1000, 100)\n",
      "(100,)\n",
      "(1000, 100)\n",
      "(100,)\n",
      "(1000, 100)\n",
      "(100,)\n",
      "(1000, 100)\n",
      "(100,)\n",
      "(1000, 100)\n",
      "(100,)\n",
      "(1000, 100)\n",
      "(100,)\n",
      "(1000, 100)\n",
      "(100,)\n",
      "(1000, 100)\n",
      "(100,)\n",
      "(1000, 100)\n",
      "(100,)\n",
      "(1000, 100)\n",
      "(100,)\n",
      "(1000, 100)\n",
      "(100,)\n",
      "(1000, 100)\n",
      "(100,)\n",
      "(1000, 100)\n",
      "(100,)\n",
      "(1000, 100)\n",
      "(100,)\n",
      "(1000, 100)\n",
      "(100,)\n",
      "(1000, 100)\n",
      "(100,)\n",
      "(1000, 100)\n",
      "(100,)\n",
      "(1000, 100)\n",
      "(100,)\n",
      "(1000, 100)\n",
      "(100,)\n",
      "(1000, 100)\n",
      "(100,)\n",
      "(1000, 100)\n",
      "(100,)\n",
      "(1000, 100)\n",
      "(100,)\n",
      "(1000, 100)\n",
      "(100,)\n",
      "(1000, 100)\n",
      "(100,)\n",
      "(1000, 100)\n",
      "(100,)\n",
      "(1000, 100)\n",
      "(100,)\n",
      "(1000, 100)\n",
      "(100,)\n",
      "(1000, 100)\n",
      "(100,)\n",
      "(1000, 100)\n",
      "(100,)\n",
      "(1000, 100)\n",
      "(100,)\n",
      "(1000, 100)\n",
      "(100,)\n",
      "(1000, 100)\n",
      "(100,)\n",
      "(1000, 100)\n",
      "(100,)\n",
      "(1000, 100)\n",
      "(100,)\n",
      "(1000, 100)\n",
      "(100,)\n",
      "(1000, 100)\n",
      "(100,)\n",
      "(1000, 100)\n",
      "(100,)\n",
      "(1000, 100)\n",
      "(100,)\n",
      "(1000, 100)\n",
      "(100,)\n",
      "(1000, 100)\n",
      "(100,)\n",
      "(1000, 100)\n",
      "(100,)\n",
      "(1000, 100)\n",
      "(100,)\n",
      "(1000, 100)\n",
      "(100,)\n",
      "(1000, 100)\n",
      "(100,)\n",
      "(1000, 100)\n",
      "(100,)\n",
      "(1000, 100)\n",
      "(100,)\n",
      "(1000, 100)\n",
      "(100,)\n",
      "(1000, 100)\n",
      "(100,)\n",
      "(1000, 100)\n",
      "(100,)\n",
      "(1000, 100)\n",
      "(100,)\n",
      "(1000, 100)\n",
      "(100,)\n",
      "(1000, 100)\n",
      "(100,)\n",
      "(1000, 100)\n",
      "(100,)\n",
      "(1000, 100)\n",
      "(100,)\n",
      "(1000, 100)\n",
      "(100,)\n",
      "(1000, 100)\n",
      "(100,)\n",
      "(1000, 100)\n",
      "(100,)\n",
      "(1000, 100)\n",
      "(100,)\n",
      "(1000, 100)\n",
      "(100,)\n",
      "(1000, 100)\n",
      "(100,)\n",
      "(1000, 100)\n",
      "(100,)\n",
      "(1000, 100)\n",
      "(100,)\n",
      "(1000, 100)\n",
      "(100,)\n",
      "(1000, 100)\n",
      "(100,)\n",
      "(1000, 100)\n",
      "(100,)\n",
      "(1000, 100)\n",
      "(100,)\n",
      "(1000, 100)\n",
      "(100,)\n",
      "(1000, 100)\n",
      "(100,)\n",
      "(1000, 100)\n",
      "(100,)\n",
      "(1000, 100)\n",
      "(100,)\n",
      "(1000, 100)\n",
      "(100,)\n",
      "(1000, 100)\n",
      "(100,)\n",
      "(1000, 100)\n",
      "(100,)\n",
      "(1000, 100)\n",
      "(100,)\n",
      "(1000, 100)\n",
      "(100,)\n",
      "(1000, 100)\n",
      "(100,)\n",
      "(1000, 100)\n",
      "(100,)\n",
      "(1000, 100)\n",
      "(100,)\n",
      "{'tpr_add': 0.0, 'tpr_epi': 0.0, 'fpr': 0.79}\n",
      "0:00:23.101119\n"
     ]
    }
   ],
   "source": [
    "t0=datetime.datetime.now()\n",
    "stat={'tpr_add':0,'tpr_epi':0,'fpr':0}\n",
    "for ii in range(len(Y)):\n",
    "    res=findSNP(X,Y[ii],add0,epi0)\n",
    "    stat['tpr_add']+=res['tpr_add']\n",
    "    stat['tpr_epi']+=res['tpr_epi']\n",
    "    stat['fpr']+=res['fpr']\n",
    "    \n",
    "stat['tpr_add']=stat['tpr_add']/len(Y)\n",
    "stat['tpr_epi']=stat['tpr_epi']/len(Y)\n",
    "stat['fpr']=stat['fpr']/len(Y)\n",
    "t1=datetime.datetime.now()\n",
    "print(stat)\n",
    "print(t1-t0)"
   ]
  },
  {
   "cell_type": "code",
   "execution_count": 50,
   "metadata": {},
   "outputs": [
    {
     "data": {
      "text/plain": [
       "(100,)"
      ]
     },
     "execution_count": 50,
     "metadata": {},
     "output_type": "execute_result"
    }
   ],
   "source": [
    "Y[0].shape"
   ]
  },
  {
   "cell_type": "code",
   "execution_count": 53,
   "metadata": {},
   "outputs": [
    {
     "data": {
      "text/plain": [
       "1"
      ]
     },
     "execution_count": 53,
     "metadata": {},
     "output_type": "execute_result"
    }
   ],
   "source": []
  },
  {
   "cell_type": "code",
   "execution_count": null,
   "metadata": {},
   "outputs": [],
   "source": []
  }
 ],
 "metadata": {
  "kernelspec": {
   "display_name": "Python 3",
   "language": "python",
   "name": "python3"
  },
  "language_info": {
   "codemirror_mode": {
    "name": "ipython",
    "version": 3
   },
   "file_extension": ".py",
   "mimetype": "text/x-python",
   "name": "python",
   "nbconvert_exporter": "python",
   "pygments_lexer": "ipython3",
   "version": "3.7.3"
  }
 },
 "nbformat": 4,
 "nbformat_minor": 2
}
