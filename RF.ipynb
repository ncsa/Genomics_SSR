{
 "cells": [
  {
   "cell_type": "code",
   "execution_count": 1,
   "metadata": {},
   "outputs": [],
   "source": [
    "from sklearn.ensemble import RandomForestRegressor\n",
    "from sklearn.datasets import make_regression\n",
    "import pandas as pd\n",
    "import numpy as np\n",
    "import datetime"
   ]
  },
  {
   "cell_type": "code",
   "execution_count": 2,
   "metadata": {},
   "outputs": [],
   "source": [
    "df=pd.read_csv('SNP.1000.Sample.500.Genotype.epiq',delimiter='\\t')"
   ]
  },
  {
   "cell_type": "code",
   "execution_count": 3,
   "metadata": {},
   "outputs": [],
   "source": [
    "x1=df.drop('HeaderLine',axis=1).transpose()"
   ]
  },
  {
   "cell_type": "code",
   "execution_count": 4,
   "metadata": {},
   "outputs": [],
   "source": [
    "X=x1.to_numpy()"
   ]
  },
  {
   "cell_type": "code",
   "execution_count": 5,
   "metadata": {},
   "outputs": [],
   "source": [
    "df2=pd.read_csv('./2_Add_QTN1_Epi_QTN_h.2_0.99_add.eff_0.95_epis.eff_0.95_reps_100/Simulated.Data.100.Reps.Herit.0.99.txt',delimiter='\\t')"
   ]
  },
  {
   "cell_type": "code",
   "execution_count": 6,
   "metadata": {},
   "outputs": [],
   "source": [
    "df2=df2.drop('HeaderLine',axis=1)"
   ]
  },
  {
   "cell_type": "code",
   "execution_count": 7,
   "metadata": {},
   "outputs": [
    {
     "data": {
      "text/plain": [
       "(500,)"
      ]
     },
     "execution_count": 7,
     "metadata": {},
     "output_type": "execute_result"
    }
   ],
   "source": [
    "Y=df2.to_numpy()\n",
    "Y[0].shape"
   ]
  },
  {
   "cell_type": "code",
   "execution_count": 8,
   "metadata": {},
   "outputs": [],
   "source": [
    "add0=set([156,615])\n",
    "epi0=set([420,583])"
   ]
  },
  {
   "cell_type": "code",
   "execution_count": 9,
   "metadata": {},
   "outputs": [
    {
     "data": {
      "text/plain": [
       "<function numpy.mean(a, axis=None, dtype=None, out=None, keepdims=<no value>)>"
      ]
     },
     "execution_count": 9,
     "metadata": {},
     "output_type": "execute_result"
    }
   ],
   "source": [
    "np.mean"
   ]
  },
  {
   "cell_type": "code",
   "execution_count": 10,
   "metadata": {},
   "outputs": [],
   "source": [
    "def findSNP(X,y,add0,epi0):\n",
    "    regr=RandomForestRegressor(max_depth=2,random_state=0,n_estimators=500)\n",
    "    regr.fit(X,y)\n",
    "    l0=regr.feature_importances_\n",
    "    sel=abs(l0)>np.mean(abs(l0))\n",
    "    coefs=set(np.arange(len(l0))[sel])\n",
    "    \n",
    "    res={}\n",
    "    \n",
    "    tp_add=len(coefs & add0)\n",
    "    tp_epi=len(coefs & epi0)\n",
    "    \n",
    "    fp = len(coefs) - tp_add - tp_epi\n",
    "\n",
    "    \n",
    "    res['tpr_add']=tp_add/len(add0)\n",
    "    res['tpr_epi']=tp_epi/len(epi0)\n",
    "    res['fpr']=fp/len(coefs)\n",
    "    \n",
    "    \n",
    "    return res\n",
    "    "
   ]
  },
  {
   "cell_type": "code",
   "execution_count": 11,
   "metadata": {},
   "outputs": [
    {
     "name": "stdout",
     "output_type": "stream",
     "text": [
      "{'tpr_add': 1.0, 'tpr_epi': 0.0, 'fpr': 0.42333333333333345}\n",
      "0:02:26.362694\n"
     ]
    }
   ],
   "source": [
    "t0=datetime.datetime.now()\n",
    "stat={'tpr_add':0,'tpr_epi':0,'fpr':0}\n",
    "for ii in range(len(Y)):\n",
    "    res=findSNP(X,Y[ii],add0,epi0)\n",
    "    stat['tpr_add']+=res['tpr_add']\n",
    "    stat['tpr_epi']+=res['tpr_epi']\n",
    "    stat['fpr']+=res['fpr']\n",
    "    \n",
    "stat['tpr_add']=stat['tpr_add']/len(Y)\n",
    "stat['tpr_epi']=stat['tpr_epi']/len(Y)\n",
    "stat['fpr']=stat['fpr']/len(Y)\n",
    "t1=datetime.datetime.now()\n",
    "print(stat)\n",
    "print(t1-t0)"
   ]
  },
  {
   "cell_type": "code",
   "execution_count": null,
   "metadata": {},
   "outputs": [],
   "source": []
  },
  {
   "cell_type": "code",
   "execution_count": null,
   "metadata": {},
   "outputs": [],
   "source": []
  },
  {
   "cell_type": "code",
   "execution_count": null,
   "metadata": {},
   "outputs": [],
   "source": []
  }
 ],
 "metadata": {
  "kernelspec": {
   "display_name": "Python 3",
   "language": "python",
   "name": "python3"
  },
  "language_info": {
   "codemirror_mode": {
    "name": "ipython",
    "version": 3
   },
   "file_extension": ".py",
   "mimetype": "text/x-python",
   "name": "python",
   "nbconvert_exporter": "python",
   "pygments_lexer": "ipython3",
   "version": "3.7.3"
  }
 },
 "nbformat": 4,
 "nbformat_minor": 2
}
